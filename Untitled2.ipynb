{
  "nbformat": 4,
  "nbformat_minor": 0,
  "metadata": {
    "colab": {
      "provenance": [],
      "authorship_tag": "ABX9TyNbKlsWedne1M5xEeukKOwD",
      "include_colab_link": true
    },
    "kernelspec": {
      "name": "python3",
      "display_name": "Python 3"
    },
    "language_info": {
      "name": "python"
    }
  },
  "cells": [
    {
      "cell_type": "markdown",
      "metadata": {
        "id": "view-in-github",
        "colab_type": "text"
      },
      "source": [
        "<a href=\"https://colab.research.google.com/github/Yashdharne/yash/blob/main/Untitled2.ipynb\" target=\"_parent\"><img src=\"https://colab.research.google.com/assets/colab-badge.svg\" alt=\"Open In Colab\"/></a>"
      ]
    },
    {
      "cell_type": "code",
      "execution_count": null,
      "metadata": {
        "id": "AijDX_a9gJga"
      },
      "outputs": [],
      "source": []
    },
    {
      "cell_type": "markdown",
      "source": [
        "# Python code for text handling"
      ],
      "metadata": {
        "id": "ixeQIRbngKMU"
      }
    },
    {
      "cell_type": "markdown",
      "source": [
        "Palindrome word"
      ],
      "metadata": {
        "id": "-L7hC-hAggZt"
      }
    },
    {
      "cell_type": "code",
      "source": [
        "def is_palindrome(word):\n",
        "\n",
        "    word = word.lower()\n",
        "    return word == word[::-1]\n",
        "\n",
        "if __name__ == \"__main__\":\n",
        "    test_word = input(\"Enter a word: \")\n",
        "    if is_palindrome(test_word):\n",
        "        print(f\"{test_word} is a palindrome!\")\n",
        "    else:\n",
        "        print(f\"{test_word} is not a palindrome.\")"
      ],
      "metadata": {
        "colab": {
          "base_uri": "https://localhost:8080/"
        },
        "id": "LNaPl42hgmQj",
        "outputId": "b4169ab3-ec53-40ea-a7b0-9cd153b759f1"
      },
      "execution_count": 1,
      "outputs": [
        {
          "output_type": "stream",
          "name": "stdout",
          "text": [
            "Enter a word: level\n",
            "level is a palindrome!\n"
          ]
        }
      ]
    },
    {
      "cell_type": "markdown",
      "source": [],
      "metadata": {
        "id": "ZdLhrHrIhqtN"
      }
    },
    {
      "cell_type": "markdown",
      "source": [],
      "metadata": {
        "id": "pVuuUNivkhaN"
      }
    }
  ]
}